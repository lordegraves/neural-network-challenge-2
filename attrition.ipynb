{
  "cells": [
    {
      "cell_type": "markdown",
      "metadata": {
        "id": "alIIEHibGc3M"
      },
      "source": [
        "## Part 1: Preprocessing"
      ]
    },
    {
      "cell_type": "code",
      "execution_count": 1,
      "metadata": {
        "colab": {
          "base_uri": "https://localhost:8080/",
          "height": 325
        },
        "id": "6eDUJ4NtGc3P",
        "outputId": "2480098c-135c-4cbf-9552-018494ee8ff5"
      },
      "outputs": [
        {
          "name": "stderr",
          "output_type": "stream",
          "text": [
            "C:\\Users\\graves\\AppData\\Local\\Temp\\ipykernel_17440\\13696627.py:4: DeprecationWarning: \n",
            "Pyarrow will become a required dependency of pandas in the next major release of pandas (pandas 3.0),\n",
            "(to allow more performant data types, such as the Arrow string type, and better interoperability with other libraries)\n",
            "but was not found to be installed on your system.\n",
            "If this would cause problems for you,\n",
            "please provide us feedback at https://github.com/pandas-dev/pandas/issues/54466\n",
            "        \n",
            "  import pandas as pd\n"
          ]
        },
        {
          "data": {
            "text/html": [
              "<div>\n",
              "<style scoped>\n",
              "    .dataframe tbody tr th:only-of-type {\n",
              "        vertical-align: middle;\n",
              "    }\n",
              "\n",
              "    .dataframe tbody tr th {\n",
              "        vertical-align: top;\n",
              "    }\n",
              "\n",
              "    .dataframe thead th {\n",
              "        text-align: right;\n",
              "    }\n",
              "</style>\n",
              "<table border=\"1\" class=\"dataframe\">\n",
              "  <thead>\n",
              "    <tr style=\"text-align: right;\">\n",
              "      <th></th>\n",
              "      <th>Age</th>\n",
              "      <th>Attrition</th>\n",
              "      <th>BusinessTravel</th>\n",
              "      <th>Department</th>\n",
              "      <th>DistanceFromHome</th>\n",
              "      <th>Education</th>\n",
              "      <th>EducationField</th>\n",
              "      <th>EnvironmentSatisfaction</th>\n",
              "      <th>HourlyRate</th>\n",
              "      <th>JobInvolvement</th>\n",
              "      <th>...</th>\n",
              "      <th>PerformanceRating</th>\n",
              "      <th>RelationshipSatisfaction</th>\n",
              "      <th>StockOptionLevel</th>\n",
              "      <th>TotalWorkingYears</th>\n",
              "      <th>TrainingTimesLastYear</th>\n",
              "      <th>WorkLifeBalance</th>\n",
              "      <th>YearsAtCompany</th>\n",
              "      <th>YearsInCurrentRole</th>\n",
              "      <th>YearsSinceLastPromotion</th>\n",
              "      <th>YearsWithCurrManager</th>\n",
              "    </tr>\n",
              "  </thead>\n",
              "  <tbody>\n",
              "    <tr>\n",
              "      <th>0</th>\n",
              "      <td>41</td>\n",
              "      <td>Yes</td>\n",
              "      <td>Travel_Rarely</td>\n",
              "      <td>Sales</td>\n",
              "      <td>1</td>\n",
              "      <td>2</td>\n",
              "      <td>Life Sciences</td>\n",
              "      <td>2</td>\n",
              "      <td>94</td>\n",
              "      <td>3</td>\n",
              "      <td>...</td>\n",
              "      <td>3</td>\n",
              "      <td>1</td>\n",
              "      <td>0</td>\n",
              "      <td>8</td>\n",
              "      <td>0</td>\n",
              "      <td>1</td>\n",
              "      <td>6</td>\n",
              "      <td>4</td>\n",
              "      <td>0</td>\n",
              "      <td>5</td>\n",
              "    </tr>\n",
              "    <tr>\n",
              "      <th>1</th>\n",
              "      <td>49</td>\n",
              "      <td>No</td>\n",
              "      <td>Travel_Frequently</td>\n",
              "      <td>Research &amp; Development</td>\n",
              "      <td>8</td>\n",
              "      <td>1</td>\n",
              "      <td>Life Sciences</td>\n",
              "      <td>3</td>\n",
              "      <td>61</td>\n",
              "      <td>2</td>\n",
              "      <td>...</td>\n",
              "      <td>4</td>\n",
              "      <td>4</td>\n",
              "      <td>1</td>\n",
              "      <td>10</td>\n",
              "      <td>3</td>\n",
              "      <td>3</td>\n",
              "      <td>10</td>\n",
              "      <td>7</td>\n",
              "      <td>1</td>\n",
              "      <td>7</td>\n",
              "    </tr>\n",
              "    <tr>\n",
              "      <th>2</th>\n",
              "      <td>37</td>\n",
              "      <td>Yes</td>\n",
              "      <td>Travel_Rarely</td>\n",
              "      <td>Research &amp; Development</td>\n",
              "      <td>2</td>\n",
              "      <td>2</td>\n",
              "      <td>Other</td>\n",
              "      <td>4</td>\n",
              "      <td>92</td>\n",
              "      <td>2</td>\n",
              "      <td>...</td>\n",
              "      <td>3</td>\n",
              "      <td>2</td>\n",
              "      <td>0</td>\n",
              "      <td>7</td>\n",
              "      <td>3</td>\n",
              "      <td>3</td>\n",
              "      <td>0</td>\n",
              "      <td>0</td>\n",
              "      <td>0</td>\n",
              "      <td>0</td>\n",
              "    </tr>\n",
              "    <tr>\n",
              "      <th>3</th>\n",
              "      <td>33</td>\n",
              "      <td>No</td>\n",
              "      <td>Travel_Frequently</td>\n",
              "      <td>Research &amp; Development</td>\n",
              "      <td>3</td>\n",
              "      <td>4</td>\n",
              "      <td>Life Sciences</td>\n",
              "      <td>4</td>\n",
              "      <td>56</td>\n",
              "      <td>3</td>\n",
              "      <td>...</td>\n",
              "      <td>3</td>\n",
              "      <td>3</td>\n",
              "      <td>0</td>\n",
              "      <td>8</td>\n",
              "      <td>3</td>\n",
              "      <td>3</td>\n",
              "      <td>8</td>\n",
              "      <td>7</td>\n",
              "      <td>3</td>\n",
              "      <td>0</td>\n",
              "    </tr>\n",
              "    <tr>\n",
              "      <th>4</th>\n",
              "      <td>27</td>\n",
              "      <td>No</td>\n",
              "      <td>Travel_Rarely</td>\n",
              "      <td>Research &amp; Development</td>\n",
              "      <td>2</td>\n",
              "      <td>1</td>\n",
              "      <td>Medical</td>\n",
              "      <td>1</td>\n",
              "      <td>40</td>\n",
              "      <td>3</td>\n",
              "      <td>...</td>\n",
              "      <td>3</td>\n",
              "      <td>4</td>\n",
              "      <td>1</td>\n",
              "      <td>6</td>\n",
              "      <td>3</td>\n",
              "      <td>3</td>\n",
              "      <td>2</td>\n",
              "      <td>2</td>\n",
              "      <td>2</td>\n",
              "      <td>2</td>\n",
              "    </tr>\n",
              "  </tbody>\n",
              "</table>\n",
              "<p>5 rows × 27 columns</p>\n",
              "</div>"
            ],
            "text/plain": [
              "   Age Attrition     BusinessTravel              Department  DistanceFromHome  \\\n",
              "0   41       Yes      Travel_Rarely                   Sales                 1   \n",
              "1   49        No  Travel_Frequently  Research & Development                 8   \n",
              "2   37       Yes      Travel_Rarely  Research & Development                 2   \n",
              "3   33        No  Travel_Frequently  Research & Development                 3   \n",
              "4   27        No      Travel_Rarely  Research & Development                 2   \n",
              "\n",
              "   Education EducationField  EnvironmentSatisfaction  HourlyRate  \\\n",
              "0          2  Life Sciences                        2          94   \n",
              "1          1  Life Sciences                        3          61   \n",
              "2          2          Other                        4          92   \n",
              "3          4  Life Sciences                        4          56   \n",
              "4          1        Medical                        1          40   \n",
              "\n",
              "   JobInvolvement  ...  PerformanceRating RelationshipSatisfaction  \\\n",
              "0               3  ...                  3                        1   \n",
              "1               2  ...                  4                        4   \n",
              "2               2  ...                  3                        2   \n",
              "3               3  ...                  3                        3   \n",
              "4               3  ...                  3                        4   \n",
              "\n",
              "   StockOptionLevel TotalWorkingYears  TrainingTimesLastYear WorkLifeBalance  \\\n",
              "0                 0                 8                      0               1   \n",
              "1                 1                10                      3               3   \n",
              "2                 0                 7                      3               3   \n",
              "3                 0                 8                      3               3   \n",
              "4                 1                 6                      3               3   \n",
              "\n",
              "   YearsAtCompany  YearsInCurrentRole  YearsSinceLastPromotion  \\\n",
              "0               6                   4                        0   \n",
              "1              10                   7                        1   \n",
              "2               0                   0                        0   \n",
              "3               8                   7                        3   \n",
              "4               2                   2                        2   \n",
              "\n",
              "   YearsWithCurrManager  \n",
              "0                     5  \n",
              "1                     7  \n",
              "2                     0  \n",
              "3                     0  \n",
              "4                     2  \n",
              "\n",
              "[5 rows x 27 columns]"
            ]
          },
          "execution_count": 1,
          "metadata": {},
          "output_type": "execute_result"
        }
      ],
      "source": [
        "# Import our dependencies\n",
        "from sklearn.model_selection import train_test_split\n",
        "from sklearn.preprocessing import StandardScaler\n",
        "import pandas as pd\n",
        "import numpy as np\n",
        "from tensorflow.keras.models import Model\n",
        "from tensorflow.keras import layers\n",
        "\n",
        "#  Import and read the attrition data\n",
        "attrition_df = pd.read_csv('https://static.bc-edx.com/ai/ail-v-1-0/m19/lms/datasets/attrition.csv')\n",
        "attrition_df.head()"
      ]
    },
    {
      "cell_type": "code",
      "execution_count": 2,
      "metadata": {
        "colab": {
          "base_uri": "https://localhost:8080/"
        },
        "id": "g22aQSY4Gc3Q",
        "outputId": "1f5c13c1-b981-4e40-a7ed-dd3fe6f1b81e"
      },
      "outputs": [
        {
          "data": {
            "text/plain": [
              "Age                         43\n",
              "Attrition                    2\n",
              "BusinessTravel               3\n",
              "Department                   3\n",
              "DistanceFromHome            29\n",
              "Education                    5\n",
              "EducationField               6\n",
              "EnvironmentSatisfaction      4\n",
              "HourlyRate                  71\n",
              "JobInvolvement               4\n",
              "JobLevel                     5\n",
              "JobRole                      9\n",
              "JobSatisfaction              4\n",
              "MaritalStatus                3\n",
              "NumCompaniesWorked          10\n",
              "OverTime                     2\n",
              "PercentSalaryHike           15\n",
              "PerformanceRating            2\n",
              "RelationshipSatisfaction     4\n",
              "StockOptionLevel             4\n",
              "TotalWorkingYears           40\n",
              "TrainingTimesLastYear        7\n",
              "WorkLifeBalance              4\n",
              "YearsAtCompany              37\n",
              "YearsInCurrentRole          19\n",
              "YearsSinceLastPromotion     16\n",
              "YearsWithCurrManager        18\n",
              "dtype: int64"
            ]
          },
          "execution_count": 2,
          "metadata": {},
          "output_type": "execute_result"
        }
      ],
      "source": [
        "# Determine the number of unique values in each column.\n",
        "attrition_df.nunique()"
      ]
    },
    {
      "cell_type": "code",
      "execution_count": 3,
      "metadata": {
        "id": "50vMgBEnJbfM"
      },
      "outputs": [
        {
          "data": {
            "text/html": [
              "<div>\n",
              "<style scoped>\n",
              "    .dataframe tbody tr th:only-of-type {\n",
              "        vertical-align: middle;\n",
              "    }\n",
              "\n",
              "    .dataframe tbody tr th {\n",
              "        vertical-align: top;\n",
              "    }\n",
              "\n",
              "    .dataframe thead th {\n",
              "        text-align: right;\n",
              "    }\n",
              "</style>\n",
              "<table border=\"1\" class=\"dataframe\">\n",
              "  <thead>\n",
              "    <tr style=\"text-align: right;\">\n",
              "      <th></th>\n",
              "      <th>Attrition</th>\n",
              "      <th>Department</th>\n",
              "    </tr>\n",
              "  </thead>\n",
              "  <tbody>\n",
              "    <tr>\n",
              "      <th>0</th>\n",
              "      <td>Yes</td>\n",
              "      <td>Sales</td>\n",
              "    </tr>\n",
              "    <tr>\n",
              "      <th>1</th>\n",
              "      <td>No</td>\n",
              "      <td>Research &amp; Development</td>\n",
              "    </tr>\n",
              "    <tr>\n",
              "      <th>2</th>\n",
              "      <td>Yes</td>\n",
              "      <td>Research &amp; Development</td>\n",
              "    </tr>\n",
              "    <tr>\n",
              "      <th>3</th>\n",
              "      <td>No</td>\n",
              "      <td>Research &amp; Development</td>\n",
              "    </tr>\n",
              "    <tr>\n",
              "      <th>4</th>\n",
              "      <td>No</td>\n",
              "      <td>Research &amp; Development</td>\n",
              "    </tr>\n",
              "    <tr>\n",
              "      <th>...</th>\n",
              "      <td>...</td>\n",
              "      <td>...</td>\n",
              "    </tr>\n",
              "    <tr>\n",
              "      <th>1465</th>\n",
              "      <td>No</td>\n",
              "      <td>Research &amp; Development</td>\n",
              "    </tr>\n",
              "    <tr>\n",
              "      <th>1466</th>\n",
              "      <td>No</td>\n",
              "      <td>Research &amp; Development</td>\n",
              "    </tr>\n",
              "    <tr>\n",
              "      <th>1467</th>\n",
              "      <td>No</td>\n",
              "      <td>Research &amp; Development</td>\n",
              "    </tr>\n",
              "    <tr>\n",
              "      <th>1468</th>\n",
              "      <td>No</td>\n",
              "      <td>Sales</td>\n",
              "    </tr>\n",
              "    <tr>\n",
              "      <th>1469</th>\n",
              "      <td>No</td>\n",
              "      <td>Research &amp; Development</td>\n",
              "    </tr>\n",
              "  </tbody>\n",
              "</table>\n",
              "<p>1470 rows × 2 columns</p>\n",
              "</div>"
            ],
            "text/plain": [
              "     Attrition              Department\n",
              "0          Yes                   Sales\n",
              "1           No  Research & Development\n",
              "2          Yes  Research & Development\n",
              "3           No  Research & Development\n",
              "4           No  Research & Development\n",
              "...        ...                     ...\n",
              "1465        No  Research & Development\n",
              "1466        No  Research & Development\n",
              "1467        No  Research & Development\n",
              "1468        No                   Sales\n",
              "1469        No  Research & Development\n",
              "\n",
              "[1470 rows x 2 columns]"
            ]
          },
          "execution_count": 3,
          "metadata": {},
          "output_type": "execute_result"
        }
      ],
      "source": [
        "# Create y_df with the Attrition and Department columns\n",
        "y_df = attrition_df[['Attrition', 'Department']]\n",
        "y_df\n"
      ]
    },
    {
      "cell_type": "code",
      "execution_count": 4,
      "metadata": {
        "colab": {
          "base_uri": "https://localhost:8080/"
        },
        "id": "Virka0zLGc3R",
        "outputId": "dd5aee3a-9458-4ba6-e857-1b234de40915"
      },
      "outputs": [
        {
          "data": {
            "text/plain": [
              "Education                   int64\n",
              "Age                         int64\n",
              "DistanceFromHome            int64\n",
              "JobSatisfaction             int64\n",
              "OverTime                   object\n",
              "StockOptionLevel            int64\n",
              "WorkLifeBalance             int64\n",
              "YearsAtCompany              int64\n",
              "YearsSinceLastPromotion     int64\n",
              "NumCompaniesWorked          int64\n",
              "dtype: object"
            ]
          },
          "execution_count": 4,
          "metadata": {},
          "output_type": "execute_result"
        }
      ],
      "source": [
        "# Create a list of at least 10 column names to use as X data\n",
        "X_columns = [\n",
        "    \"Education\",\n",
        "    \"Age\",\n",
        "    \"DistanceFromHome\",\n",
        "    \"JobSatisfaction\",\n",
        "    \"OverTime\",\n",
        "    \"StockOptionLevel\",\n",
        "    \"WorkLifeBalance\",\n",
        "    \"YearsAtCompany\",\n",
        "    \"YearsSinceLastPromotion\",\n",
        "    \"NumCompaniesWorked\"\n",
        "]\n",
        "\n",
        "\n",
        "# Create X_df using your selected columns\n",
        "X_df = attrition_df[X_columns]\n",
        "\n",
        "# Show the data types for X_df\n",
        "X_df.dtypes\n"
      ]
    },
    {
      "cell_type": "code",
      "execution_count": 5,
      "metadata": {
        "id": "KaJfdOGUMHMR"
      },
      "outputs": [],
      "source": [
        "# Split the data into training and testing sets\n",
        "from sklearn.model_selection import train_test_split\n",
        "X_train, X_test, y_train, y_test = train_test_split(X_df, y_df, random_state=42)\n"
      ]
    },
    {
      "cell_type": "code",
      "execution_count": 6,
      "metadata": {
        "colab": {
          "base_uri": "https://localhost:8080/"
        },
        "id": "NYubUJqiLCSp",
        "outputId": "53f31721-571c-4c94-d13e-25a715749593"
      },
      "outputs": [
        {
          "name": "stdout",
          "output_type": "stream",
          "text": [
            "NaNs in X_train after encoding 'OverTime': 0\n",
            "NaNs in X_test after encoding 'OverTime': 0\n"
          ]
        }
      ],
      "source": [
        "# Convert your X data to numeric data types however you see fit\n",
        "# Add new code cells as necessary\n",
        "\n",
        "# Perform the encoding on the training set\n",
        "X_train['OverTime'] = X_train['OverTime'].map({'Yes': 1, 'No': 0})\n",
        "\n",
        "# Perform the encoding on the testing set\n",
        "X_test['OverTime'] = X_test['OverTime'].map({'Yes': 1, 'No': 0})\n",
        "\n",
        "# Check the value counts in the training set\n",
        "#print(X_train.dtypes)\n",
        "#print(X_test.dtypes)\n",
        "print(\"NaNs in X_train after encoding 'OverTime':\", X_train['OverTime'].isnull().sum())\n",
        "print(\"NaNs in X_test after encoding 'OverTime':\", X_test['OverTime'].isnull().sum())\n",
        "\n"
      ]
    },
    {
      "cell_type": "code",
      "execution_count": 7,
      "metadata": {
        "id": "EWA-aIA5Gc3T"
      },
      "outputs": [],
      "source": [
        "# Create a StandardScaler\n",
        "scaler = StandardScaler()\n",
        "\n",
        "# Fit the StandardScaler to the training data\n",
        "scaler.fit(X_train)\n",
        "\n",
        "# Scale the training and testing data\n",
        "X_train_scaled = scaler.transform(X_train)\n",
        "X_test_scaled = scaler.transform(X_test)\n"
      ]
    },
    {
      "cell_type": "code",
      "execution_count": 8,
      "metadata": {
        "colab": {
          "base_uri": "https://localhost:8080/"
        },
        "id": "-z0Mky8vQSz4",
        "outputId": "debefc85-c20b-48f5-f4d9-91eadd65d36a"
      },
      "outputs": [
        {
          "data": {
            "text/plain": [
              "array([[0., 1., 0.],\n",
              "       [0., 0., 1.],\n",
              "       [0., 0., 1.],\n",
              "       ...,\n",
              "       [0., 1., 0.],\n",
              "       [0., 1., 0.],\n",
              "       [0., 0., 1.]])"
            ]
          },
          "execution_count": 8,
          "metadata": {},
          "output_type": "execute_result"
        }
      ],
      "source": [
        "# Create a OneHotEncoder for the Department column\n",
        "from sklearn.preprocessing import OneHotEncoder\n",
        "department_encoder = OneHotEncoder(sparse_output=False)\n",
        "\n",
        "# Fit the encoder to the training data\n",
        "department_encoded = department_encoder.fit(y_train[['Department']])\n",
        "\n",
        "# Create two new variables by applying the encoder\n",
        "# to the training and testing data\n",
        "department_train_encoded = department_encoder.transform(y_train[['Department']])\n",
        "department_test_encoded = department_encoder.transform(y_test[['Department']])\n",
        "\n",
        "department_train_encoded\n"
      ]
    },
    {
      "cell_type": "code",
      "execution_count": 10,
      "metadata": {
        "colab": {
          "base_uri": "https://localhost:8080/"
        },
        "id": "-G4DSpvFRrk4",
        "outputId": "9842e948-8a55-4b80-8fac-f96714e85589"
      },
      "outputs": [
        {
          "name": "stdout",
          "output_type": "stream",
          "text": [
            "1102\n",
            "368\n"
          ]
        }
      ],
      "source": [
        "# Create a OneHotEncoder for the Attrition column\n",
        "attrition_encoder = OneHotEncoder(sparse_output=False)\n",
        "\n",
        "# Fit the encoder to the training data\n",
        "attrition_encoded = attrition_encoder.fit(y_train[['Attrition']])\n",
        "\n",
        "# Create two new variables by applying the encoder\n",
        "# to the training and testing data\n",
        "attrition_train_encoded = attrition_encoder.transform(y_train[['Attrition']])\n",
        "attrition_test_encoded = attrition_encoder.transform(y_test[['Attrition']])\n",
        "\n",
        "print(len(attrition_train_encoded))\n",
        "print(len(attrition_test_encoded))\n"
      ]
    },
    {
      "cell_type": "markdown",
      "metadata": {
        "id": "ykNmu_WWGc3T"
      },
      "source": [
        "## Create, Compile, and Train the Model"
      ]
    },
    {
      "cell_type": "code",
      "execution_count": 11,
      "metadata": {
        "id": "WUptZqmSGc3T"
      },
      "outputs": [],
      "source": [
        "# Find the number of columns in the X training data\n",
        "input_features = X_train_scaled.shape[1]\n",
        "\n",
        "# Create the input layer\n",
        "input_layer = layers.Input(shape=(X_train_scaled.shape[1],), name='input')\n",
        "\n",
        "# Create at least two shared layers\n",
        "shared_layer1 = layers.Dense(64, activation='relu', name='shared1')(input_layer)\n",
        "shared_layer2 = layers.Dense(128, activation='relu', name='shared2')(shared_layer1)"
      ]
    },
    {
      "cell_type": "code",
      "execution_count": 12,
      "metadata": {
        "id": "JukjTm2yTEqd"
      },
      "outputs": [],
      "source": [
        "# Create a branch for Department\n",
        "# with a hidden layer and an output layer\n",
        "\n",
        "# Create the hidden layer\n",
        "department_hidden = layers.Dense(32, activation='relu', name='department_hidden')(shared_layer2)\n",
        "\n",
        "# Create the output layer\n",
        "department_output = layers.Dense(3, activation='softmax', name='department_output')(department_hidden)\n"
      ]
    },
    {
      "cell_type": "code",
      "execution_count": 13,
      "metadata": {
        "id": "9OqhUiOJUBkR"
      },
      "outputs": [],
      "source": [
        "# Create a branch for Attrition\n",
        "# with a hidden layer and an output layer\n",
        "\n",
        "# Create the hidden layer\n",
        "attrition_hidden = layers.Dense(32, activation='relu', name='attrition_hidden')(shared_layer2)\n",
        "\n",
        "# Create the output layer\n",
        "attrition_output = layers.Dense(2, activation='sigmoid', name='attrition_output')(attrition_hidden)\n"
      ]
    },
    {
      "cell_type": "code",
      "execution_count": 15,
      "metadata": {
        "colab": {
          "base_uri": "https://localhost:8080/"
        },
        "id": "twmuejdxGc3T",
        "outputId": "25096308-b68b-42e4-e4ea-ae82e97c435a"
      },
      "outputs": [
        {
          "data": {
            "text/html": [
              "<pre style=\"white-space:pre;overflow-x:auto;line-height:normal;font-family:Menlo,'DejaVu Sans Mono',consolas,'Courier New',monospace\"><span style=\"font-weight: bold\">Model: \"functional_3\"</span>\n",
              "</pre>\n"
            ],
            "text/plain": [
              "\u001b[1mModel: \"functional_3\"\u001b[0m\n"
            ]
          },
          "metadata": {},
          "output_type": "display_data"
        },
        {
          "data": {
            "text/html": [
              "<pre style=\"white-space:pre;overflow-x:auto;line-height:normal;font-family:Menlo,'DejaVu Sans Mono',consolas,'Courier New',monospace\">┏━━━━━━━━━━━━━━━━━━━━━┳━━━━━━━━━━━━━━━━━━━┳━━━━━━━━━━━━┳━━━━━━━━━━━━━━━━━━━┓\n",
              "┃<span style=\"font-weight: bold\"> Layer (type)        </span>┃<span style=\"font-weight: bold\"> Output Shape      </span>┃<span style=\"font-weight: bold\">    Param # </span>┃<span style=\"font-weight: bold\"> Connected to      </span>┃\n",
              "┡━━━━━━━━━━━━━━━━━━━━━╇━━━━━━━━━━━━━━━━━━━╇━━━━━━━━━━━━╇━━━━━━━━━━━━━━━━━━━┩\n",
              "│ input (<span style=\"color: #0087ff; text-decoration-color: #0087ff\">InputLayer</span>)  │ (<span style=\"color: #00d7ff; text-decoration-color: #00d7ff\">None</span>, <span style=\"color: #00af00; text-decoration-color: #00af00\">10</span>)        │          <span style=\"color: #00af00; text-decoration-color: #00af00\">0</span> │ -                 │\n",
              "├─────────────────────┼───────────────────┼────────────┼───────────────────┤\n",
              "│ shared1 (<span style=\"color: #0087ff; text-decoration-color: #0087ff\">Dense</span>)     │ (<span style=\"color: #00d7ff; text-decoration-color: #00d7ff\">None</span>, <span style=\"color: #00af00; text-decoration-color: #00af00\">64</span>)        │        <span style=\"color: #00af00; text-decoration-color: #00af00\">704</span> │ input[<span style=\"color: #00af00; text-decoration-color: #00af00\">0</span>][<span style=\"color: #00af00; text-decoration-color: #00af00\">0</span>]       │\n",
              "├─────────────────────┼───────────────────┼────────────┼───────────────────┤\n",
              "│ shared2 (<span style=\"color: #0087ff; text-decoration-color: #0087ff\">Dense</span>)     │ (<span style=\"color: #00d7ff; text-decoration-color: #00d7ff\">None</span>, <span style=\"color: #00af00; text-decoration-color: #00af00\">128</span>)       │      <span style=\"color: #00af00; text-decoration-color: #00af00\">8,320</span> │ shared1[<span style=\"color: #00af00; text-decoration-color: #00af00\">0</span>][<span style=\"color: #00af00; text-decoration-color: #00af00\">0</span>]     │\n",
              "├─────────────────────┼───────────────────┼────────────┼───────────────────┤\n",
              "│ department_hidden   │ (<span style=\"color: #00d7ff; text-decoration-color: #00d7ff\">None</span>, <span style=\"color: #00af00; text-decoration-color: #00af00\">32</span>)        │      <span style=\"color: #00af00; text-decoration-color: #00af00\">4,128</span> │ shared2[<span style=\"color: #00af00; text-decoration-color: #00af00\">0</span>][<span style=\"color: #00af00; text-decoration-color: #00af00\">0</span>]     │\n",
              "│ (<span style=\"color: #0087ff; text-decoration-color: #0087ff\">Dense</span>)             │                   │            │                   │\n",
              "├─────────────────────┼───────────────────┼────────────┼───────────────────┤\n",
              "│ attrition_hidden    │ (<span style=\"color: #00d7ff; text-decoration-color: #00d7ff\">None</span>, <span style=\"color: #00af00; text-decoration-color: #00af00\">32</span>)        │      <span style=\"color: #00af00; text-decoration-color: #00af00\">4,128</span> │ shared2[<span style=\"color: #00af00; text-decoration-color: #00af00\">0</span>][<span style=\"color: #00af00; text-decoration-color: #00af00\">0</span>]     │\n",
              "│ (<span style=\"color: #0087ff; text-decoration-color: #0087ff\">Dense</span>)             │                   │            │                   │\n",
              "├─────────────────────┼───────────────────┼────────────┼───────────────────┤\n",
              "│ department_output   │ (<span style=\"color: #00d7ff; text-decoration-color: #00d7ff\">None</span>, <span style=\"color: #00af00; text-decoration-color: #00af00\">3</span>)         │         <span style=\"color: #00af00; text-decoration-color: #00af00\">99</span> │ department_hidde… │\n",
              "│ (<span style=\"color: #0087ff; text-decoration-color: #0087ff\">Dense</span>)             │                   │            │                   │\n",
              "├─────────────────────┼───────────────────┼────────────┼───────────────────┤\n",
              "│ attrition_output    │ (<span style=\"color: #00d7ff; text-decoration-color: #00d7ff\">None</span>, <span style=\"color: #00af00; text-decoration-color: #00af00\">2</span>)         │         <span style=\"color: #00af00; text-decoration-color: #00af00\">66</span> │ attrition_hidden… │\n",
              "│ (<span style=\"color: #0087ff; text-decoration-color: #0087ff\">Dense</span>)             │                   │            │                   │\n",
              "└─────────────────────┴───────────────────┴────────────┴───────────────────┘\n",
              "</pre>\n"
            ],
            "text/plain": [
              "┏━━━━━━━━━━━━━━━━━━━━━┳━━━━━━━━━━━━━━━━━━━┳━━━━━━━━━━━━┳━━━━━━━━━━━━━━━━━━━┓\n",
              "┃\u001b[1m \u001b[0m\u001b[1mLayer (type)       \u001b[0m\u001b[1m \u001b[0m┃\u001b[1m \u001b[0m\u001b[1mOutput Shape     \u001b[0m\u001b[1m \u001b[0m┃\u001b[1m \u001b[0m\u001b[1m   Param #\u001b[0m\u001b[1m \u001b[0m┃\u001b[1m \u001b[0m\u001b[1mConnected to     \u001b[0m\u001b[1m \u001b[0m┃\n",
              "┡━━━━━━━━━━━━━━━━━━━━━╇━━━━━━━━━━━━━━━━━━━╇━━━━━━━━━━━━╇━━━━━━━━━━━━━━━━━━━┩\n",
              "│ input (\u001b[38;5;33mInputLayer\u001b[0m)  │ (\u001b[38;5;45mNone\u001b[0m, \u001b[38;5;34m10\u001b[0m)        │          \u001b[38;5;34m0\u001b[0m │ -                 │\n",
              "├─────────────────────┼───────────────────┼────────────┼───────────────────┤\n",
              "│ shared1 (\u001b[38;5;33mDense\u001b[0m)     │ (\u001b[38;5;45mNone\u001b[0m, \u001b[38;5;34m64\u001b[0m)        │        \u001b[38;5;34m704\u001b[0m │ input[\u001b[38;5;34m0\u001b[0m][\u001b[38;5;34m0\u001b[0m]       │\n",
              "├─────────────────────┼───────────────────┼────────────┼───────────────────┤\n",
              "│ shared2 (\u001b[38;5;33mDense\u001b[0m)     │ (\u001b[38;5;45mNone\u001b[0m, \u001b[38;5;34m128\u001b[0m)       │      \u001b[38;5;34m8,320\u001b[0m │ shared1[\u001b[38;5;34m0\u001b[0m][\u001b[38;5;34m0\u001b[0m]     │\n",
              "├─────────────────────┼───────────────────┼────────────┼───────────────────┤\n",
              "│ department_hidden   │ (\u001b[38;5;45mNone\u001b[0m, \u001b[38;5;34m32\u001b[0m)        │      \u001b[38;5;34m4,128\u001b[0m │ shared2[\u001b[38;5;34m0\u001b[0m][\u001b[38;5;34m0\u001b[0m]     │\n",
              "│ (\u001b[38;5;33mDense\u001b[0m)             │                   │            │                   │\n",
              "├─────────────────────┼───────────────────┼────────────┼───────────────────┤\n",
              "│ attrition_hidden    │ (\u001b[38;5;45mNone\u001b[0m, \u001b[38;5;34m32\u001b[0m)        │      \u001b[38;5;34m4,128\u001b[0m │ shared2[\u001b[38;5;34m0\u001b[0m][\u001b[38;5;34m0\u001b[0m]     │\n",
              "│ (\u001b[38;5;33mDense\u001b[0m)             │                   │            │                   │\n",
              "├─────────────────────┼───────────────────┼────────────┼───────────────────┤\n",
              "│ department_output   │ (\u001b[38;5;45mNone\u001b[0m, \u001b[38;5;34m3\u001b[0m)         │         \u001b[38;5;34m99\u001b[0m │ department_hidde… │\n",
              "│ (\u001b[38;5;33mDense\u001b[0m)             │                   │            │                   │\n",
              "├─────────────────────┼───────────────────┼────────────┼───────────────────┤\n",
              "│ attrition_output    │ (\u001b[38;5;45mNone\u001b[0m, \u001b[38;5;34m2\u001b[0m)         │         \u001b[38;5;34m66\u001b[0m │ attrition_hidden… │\n",
              "│ (\u001b[38;5;33mDense\u001b[0m)             │                   │            │                   │\n",
              "└─────────────────────┴───────────────────┴────────────┴───────────────────┘\n"
            ]
          },
          "metadata": {},
          "output_type": "display_data"
        },
        {
          "data": {
            "text/html": [
              "<pre style=\"white-space:pre;overflow-x:auto;line-height:normal;font-family:Menlo,'DejaVu Sans Mono',consolas,'Courier New',monospace\"><span style=\"font-weight: bold\"> Total params: </span><span style=\"color: #00af00; text-decoration-color: #00af00\">17,445</span> (68.14 KB)\n",
              "</pre>\n"
            ],
            "text/plain": [
              "\u001b[1m Total params: \u001b[0m\u001b[38;5;34m17,445\u001b[0m (68.14 KB)\n"
            ]
          },
          "metadata": {},
          "output_type": "display_data"
        },
        {
          "data": {
            "text/html": [
              "<pre style=\"white-space:pre;overflow-x:auto;line-height:normal;font-family:Menlo,'DejaVu Sans Mono',consolas,'Courier New',monospace\"><span style=\"font-weight: bold\"> Trainable params: </span><span style=\"color: #00af00; text-decoration-color: #00af00\">17,445</span> (68.14 KB)\n",
              "</pre>\n"
            ],
            "text/plain": [
              "\u001b[1m Trainable params: \u001b[0m\u001b[38;5;34m17,445\u001b[0m (68.14 KB)\n"
            ]
          },
          "metadata": {},
          "output_type": "display_data"
        },
        {
          "data": {
            "text/html": [
              "<pre style=\"white-space:pre;overflow-x:auto;line-height:normal;font-family:Menlo,'DejaVu Sans Mono',consolas,'Courier New',monospace\"><span style=\"font-weight: bold\"> Non-trainable params: </span><span style=\"color: #00af00; text-decoration-color: #00af00\">0</span> (0.00 B)\n",
              "</pre>\n"
            ],
            "text/plain": [
              "\u001b[1m Non-trainable params: \u001b[0m\u001b[38;5;34m0\u001b[0m (0.00 B)\n"
            ]
          },
          "metadata": {},
          "output_type": "display_data"
        }
      ],
      "source": [
        "# Create the model\n",
        "model = Model(inputs=input_layer, outputs=[department_output, attrition_output])\n",
        "\n",
        "# Compile the model\n",
        "model.compile(optimizer='adam',\n",
        "              loss={'department_output': 'categorical_crossentropy', 'attrition_output': 'binary_crossentropy'},\n",
        "              metrics={'department_output': ['accuracy'], 'attrition_output': ['accuracy']})\n",
        "\n",
        "# Summarize the model\n",
        "model.summary()"
      ]
    },
    {
      "cell_type": "code",
      "execution_count": 18,
      "metadata": {
        "colab": {
          "base_uri": "https://localhost:8080/"
        },
        "id": "c8oGy0dpGc3U",
        "outputId": "cc667d43-28cf-42d4-d719-c2bc02888d30"
      },
      "outputs": [
        {
          "name": "stdout",
          "output_type": "stream",
          "text": [
            "Epoch 1/100\n",
            "35/35 - 0s - 9ms/step - attrition_output_accuracy: 0.9165 - department_output_accuracy: 0.7368 - loss: 0.8129 - val_attrition_output_accuracy: 0.3315 - val_department_output_accuracy: 0.6413 - val_loss: 3.2953\n",
            "Epoch 2/100\n",
            "35/35 - 0s - 5ms/step - attrition_output_accuracy: 0.9192 - department_output_accuracy: 0.7296 - loss: 0.8148 - val_attrition_output_accuracy: 0.3207 - val_department_output_accuracy: 0.6359 - val_loss: 3.4335\n",
            "Epoch 3/100\n",
            "35/35 - 0s - 4ms/step - attrition_output_accuracy: 0.9211 - department_output_accuracy: 0.7223 - loss: 0.8356 - val_attrition_output_accuracy: 0.3098 - val_department_output_accuracy: 0.6386 - val_loss: 3.5675\n",
            "Epoch 4/100\n",
            "35/35 - 0s - 5ms/step - attrition_output_accuracy: 0.9129 - department_output_accuracy: 0.7296 - loss: 0.8260 - val_attrition_output_accuracy: 0.3397 - val_department_output_accuracy: 0.6386 - val_loss: 3.3814\n",
            "Epoch 5/100\n",
            "35/35 - 0s - 4ms/step - attrition_output_accuracy: 0.9183 - department_output_accuracy: 0.7523 - loss: 0.8039 - val_attrition_output_accuracy: 0.3424 - val_department_output_accuracy: 0.6359 - val_loss: 3.4310\n",
            "Epoch 6/100\n",
            "35/35 - 0s - 4ms/step - attrition_output_accuracy: 0.9147 - department_output_accuracy: 0.7441 - loss: 0.8144 - val_attrition_output_accuracy: 0.3451 - val_department_output_accuracy: 0.6250 - val_loss: 3.4788\n",
            "Epoch 7/100\n",
            "35/35 - 0s - 4ms/step - attrition_output_accuracy: 0.9156 - department_output_accuracy: 0.7305 - loss: 0.8116 - val_attrition_output_accuracy: 0.3641 - val_department_output_accuracy: 0.6386 - val_loss: 3.3455\n",
            "Epoch 8/100\n",
            "35/35 - 0s - 4ms/step - attrition_output_accuracy: 0.9165 - department_output_accuracy: 0.7377 - loss: 0.8003 - val_attrition_output_accuracy: 0.3587 - val_department_output_accuracy: 0.6223 - val_loss: 3.4112\n",
            "Epoch 9/100\n",
            "35/35 - 0s - 4ms/step - attrition_output_accuracy: 0.9238 - department_output_accuracy: 0.7505 - loss: 0.7744 - val_attrition_output_accuracy: 0.3668 - val_department_output_accuracy: 0.6413 - val_loss: 3.5827\n",
            "Epoch 10/100\n",
            "35/35 - 0s - 4ms/step - attrition_output_accuracy: 0.9292 - department_output_accuracy: 0.7368 - loss: 0.7889 - val_attrition_output_accuracy: 0.3614 - val_department_output_accuracy: 0.6250 - val_loss: 3.5453\n",
            "Epoch 11/100\n",
            "35/35 - 0s - 4ms/step - attrition_output_accuracy: 0.9310 - department_output_accuracy: 0.7586 - loss: 0.7626 - val_attrition_output_accuracy: 0.3641 - val_department_output_accuracy: 0.6250 - val_loss: 3.6535\n",
            "Epoch 12/100\n",
            "35/35 - 0s - 3ms/step - attrition_output_accuracy: 0.9220 - department_output_accuracy: 0.7505 - loss: 0.7778 - val_attrition_output_accuracy: 0.3614 - val_department_output_accuracy: 0.6223 - val_loss: 3.7345\n",
            "Epoch 13/100\n",
            "35/35 - 0s - 4ms/step - attrition_output_accuracy: 0.9229 - department_output_accuracy: 0.7559 - loss: 0.7595 - val_attrition_output_accuracy: 0.3560 - val_department_output_accuracy: 0.6223 - val_loss: 3.7498\n",
            "Epoch 14/100\n",
            "35/35 - 0s - 4ms/step - attrition_output_accuracy: 0.9265 - department_output_accuracy: 0.7459 - loss: 0.7622 - val_attrition_output_accuracy: 0.3668 - val_department_output_accuracy: 0.6277 - val_loss: 3.7606\n",
            "Epoch 15/100\n",
            "35/35 - 0s - 5ms/step - attrition_output_accuracy: 0.9301 - department_output_accuracy: 0.7568 - loss: 0.7416 - val_attrition_output_accuracy: 0.3696 - val_department_output_accuracy: 0.6277 - val_loss: 3.9486\n",
            "Epoch 16/100\n",
            "35/35 - 0s - 5ms/step - attrition_output_accuracy: 0.9247 - department_output_accuracy: 0.7514 - loss: 0.7435 - val_attrition_output_accuracy: 0.3777 - val_department_output_accuracy: 0.6223 - val_loss: 3.8808\n",
            "Epoch 17/100\n",
            "35/35 - 0s - 4ms/step - attrition_output_accuracy: 0.9319 - department_output_accuracy: 0.7641 - loss: 0.7390 - val_attrition_output_accuracy: 0.3859 - val_department_output_accuracy: 0.6141 - val_loss: 3.8291\n",
            "Epoch 18/100\n",
            "35/35 - 0s - 4ms/step - attrition_output_accuracy: 0.9247 - department_output_accuracy: 0.7623 - loss: 0.7474 - val_attrition_output_accuracy: 0.3804 - val_department_output_accuracy: 0.6196 - val_loss: 3.9152\n",
            "Epoch 19/100\n",
            "35/35 - 0s - 5ms/step - attrition_output_accuracy: 0.9365 - department_output_accuracy: 0.7613 - loss: 0.7537 - val_attrition_output_accuracy: 0.3859 - val_department_output_accuracy: 0.6196 - val_loss: 3.8894\n",
            "Epoch 20/100\n",
            "35/35 - 0s - 5ms/step - attrition_output_accuracy: 0.9328 - department_output_accuracy: 0.7750 - loss: 0.7275 - val_attrition_output_accuracy: 0.3940 - val_department_output_accuracy: 0.6168 - val_loss: 3.9122\n",
            "Epoch 21/100\n",
            "35/35 - 0s - 4ms/step - attrition_output_accuracy: 0.9238 - department_output_accuracy: 0.7604 - loss: 0.7323 - val_attrition_output_accuracy: 0.3859 - val_department_output_accuracy: 0.6223 - val_loss: 4.1315\n",
            "Epoch 22/100\n",
            "35/35 - 0s - 5ms/step - attrition_output_accuracy: 0.9201 - department_output_accuracy: 0.7695 - loss: 0.7359 - val_attrition_output_accuracy: 0.3859 - val_department_output_accuracy: 0.6196 - val_loss: 4.0853\n",
            "Epoch 23/100\n",
            "35/35 - 0s - 4ms/step - attrition_output_accuracy: 0.9310 - department_output_accuracy: 0.7704 - loss: 0.7136 - val_attrition_output_accuracy: 0.3859 - val_department_output_accuracy: 0.6196 - val_loss: 4.2317\n",
            "Epoch 24/100\n",
            "35/35 - 0s - 5ms/step - attrition_output_accuracy: 0.9356 - department_output_accuracy: 0.7668 - loss: 0.7082 - val_attrition_output_accuracy: 0.4130 - val_department_output_accuracy: 0.6168 - val_loss: 4.0605\n",
            "Epoch 25/100\n",
            "35/35 - 0s - 4ms/step - attrition_output_accuracy: 0.9319 - department_output_accuracy: 0.7731 - loss: 0.7071 - val_attrition_output_accuracy: 0.4103 - val_department_output_accuracy: 0.6250 - val_loss: 4.1673\n",
            "Epoch 26/100\n",
            "35/35 - 0s - 5ms/step - attrition_output_accuracy: 0.9356 - department_output_accuracy: 0.7750 - loss: 0.7116 - val_attrition_output_accuracy: 0.3940 - val_department_output_accuracy: 0.6196 - val_loss: 4.3317\n",
            "Epoch 27/100\n",
            "35/35 - 0s - 5ms/step - attrition_output_accuracy: 0.9338 - department_output_accuracy: 0.7768 - loss: 0.7101 - val_attrition_output_accuracy: 0.3967 - val_department_output_accuracy: 0.6277 - val_loss: 4.3357\n",
            "Epoch 28/100\n",
            "35/35 - 0s - 5ms/step - attrition_output_accuracy: 0.9301 - department_output_accuracy: 0.7632 - loss: 0.6904 - val_attrition_output_accuracy: 0.4158 - val_department_output_accuracy: 0.6304 - val_loss: 4.4322\n",
            "Epoch 29/100\n",
            "35/35 - 0s - 4ms/step - attrition_output_accuracy: 0.9356 - department_output_accuracy: 0.7731 - loss: 0.6994 - val_attrition_output_accuracy: 0.4293 - val_department_output_accuracy: 0.6277 - val_loss: 4.3573\n",
            "Epoch 30/100\n",
            "35/35 - 0s - 5ms/step - attrition_output_accuracy: 0.9265 - department_output_accuracy: 0.7804 - loss: 0.7131 - val_attrition_output_accuracy: 0.4266 - val_department_output_accuracy: 0.6277 - val_loss: 4.3597\n",
            "Epoch 31/100\n",
            "35/35 - 0s - 4ms/step - attrition_output_accuracy: 0.9292 - department_output_accuracy: 0.7559 - loss: 0.6974 - val_attrition_output_accuracy: 0.4185 - val_department_output_accuracy: 0.6332 - val_loss: 4.4813\n",
            "Epoch 32/100\n",
            "35/35 - 0s - 4ms/step - attrition_output_accuracy: 0.9374 - department_output_accuracy: 0.7831 - loss: 0.6783 - val_attrition_output_accuracy: 0.4212 - val_department_output_accuracy: 0.6087 - val_loss: 4.4566\n",
            "Epoch 33/100\n",
            "35/35 - 0s - 4ms/step - attrition_output_accuracy: 0.9301 - department_output_accuracy: 0.7731 - loss: 0.7033 - val_attrition_output_accuracy: 0.4185 - val_department_output_accuracy: 0.6141 - val_loss: 4.5134\n",
            "Epoch 34/100\n",
            "35/35 - 0s - 3ms/step - attrition_output_accuracy: 0.9265 - department_output_accuracy: 0.7895 - loss: 0.6657 - val_attrition_output_accuracy: 0.4022 - val_department_output_accuracy: 0.6114 - val_loss: 4.6453\n",
            "Epoch 35/100\n",
            "35/35 - 0s - 4ms/step - attrition_output_accuracy: 0.9383 - department_output_accuracy: 0.7831 - loss: 0.6698 - val_attrition_output_accuracy: 0.4049 - val_department_output_accuracy: 0.6141 - val_loss: 4.7174\n",
            "Epoch 36/100\n",
            "35/35 - 0s - 4ms/step - attrition_output_accuracy: 0.9347 - department_output_accuracy: 0.7877 - loss: 0.6585 - val_attrition_output_accuracy: 0.4348 - val_department_output_accuracy: 0.6196 - val_loss: 4.7196\n",
            "Epoch 37/100\n",
            "35/35 - 0s - 3ms/step - attrition_output_accuracy: 0.9401 - department_output_accuracy: 0.7967 - loss: 0.6450 - val_attrition_output_accuracy: 0.4239 - val_department_output_accuracy: 0.6196 - val_loss: 4.8381\n",
            "Epoch 38/100\n",
            "35/35 - 0s - 5ms/step - attrition_output_accuracy: 0.9428 - department_output_accuracy: 0.7958 - loss: 0.6433 - val_attrition_output_accuracy: 0.4266 - val_department_output_accuracy: 0.6196 - val_loss: 4.8662\n",
            "Epoch 39/100\n",
            "35/35 - 0s - 5ms/step - attrition_output_accuracy: 0.9446 - department_output_accuracy: 0.7895 - loss: 0.6360 - val_attrition_output_accuracy: 0.4239 - val_department_output_accuracy: 0.6277 - val_loss: 4.9181\n",
            "Epoch 40/100\n",
            "35/35 - 0s - 3ms/step - attrition_output_accuracy: 0.9465 - department_output_accuracy: 0.7895 - loss: 0.6500 - val_attrition_output_accuracy: 0.4239 - val_department_output_accuracy: 0.6223 - val_loss: 4.9507\n",
            "Epoch 41/100\n",
            "35/35 - 0s - 4ms/step - attrition_output_accuracy: 0.9446 - department_output_accuracy: 0.8103 - loss: 0.6199 - val_attrition_output_accuracy: 0.4266 - val_department_output_accuracy: 0.6168 - val_loss: 4.9137\n",
            "Epoch 42/100\n",
            "35/35 - 0s - 4ms/step - attrition_output_accuracy: 0.9465 - department_output_accuracy: 0.7949 - loss: 0.6310 - val_attrition_output_accuracy: 0.4293 - val_department_output_accuracy: 0.6277 - val_loss: 5.0538\n",
            "Epoch 43/100\n",
            "35/35 - 0s - 4ms/step - attrition_output_accuracy: 0.9428 - department_output_accuracy: 0.7995 - loss: 0.6169 - val_attrition_output_accuracy: 0.4185 - val_department_output_accuracy: 0.6304 - val_loss: 5.1486\n",
            "Epoch 44/100\n",
            "35/35 - 0s - 4ms/step - attrition_output_accuracy: 0.9392 - department_output_accuracy: 0.8103 - loss: 0.6114 - val_attrition_output_accuracy: 0.4212 - val_department_output_accuracy: 0.6223 - val_loss: 5.2171\n",
            "Epoch 45/100\n",
            "35/35 - 0s - 4ms/step - attrition_output_accuracy: 0.9428 - department_output_accuracy: 0.8094 - loss: 0.6113 - val_attrition_output_accuracy: 0.4158 - val_department_output_accuracy: 0.6196 - val_loss: 5.1457\n",
            "Epoch 46/100\n",
            "35/35 - 0s - 4ms/step - attrition_output_accuracy: 0.9428 - department_output_accuracy: 0.7940 - loss: 0.6253 - val_attrition_output_accuracy: 0.4375 - val_department_output_accuracy: 0.6250 - val_loss: 5.0565\n",
            "Epoch 47/100\n",
            "35/35 - 0s - 4ms/step - attrition_output_accuracy: 0.9519 - department_output_accuracy: 0.8040 - loss: 0.6057 - val_attrition_output_accuracy: 0.4321 - val_department_output_accuracy: 0.6250 - val_loss: 5.2967\n",
            "Epoch 48/100\n",
            "35/35 - 0s - 5ms/step - attrition_output_accuracy: 0.9419 - department_output_accuracy: 0.7976 - loss: 0.6111 - val_attrition_output_accuracy: 0.4266 - val_department_output_accuracy: 0.6114 - val_loss: 5.1159\n",
            "Epoch 49/100\n",
            "35/35 - 0s - 5ms/step - attrition_output_accuracy: 0.9465 - department_output_accuracy: 0.8013 - loss: 0.6030 - val_attrition_output_accuracy: 0.4212 - val_department_output_accuracy: 0.6087 - val_loss: 5.3473\n",
            "Epoch 50/100\n",
            "35/35 - 0s - 4ms/step - attrition_output_accuracy: 0.9510 - department_output_accuracy: 0.8067 - loss: 0.5876 - val_attrition_output_accuracy: 0.4321 - val_department_output_accuracy: 0.6223 - val_loss: 5.5229\n",
            "Epoch 51/100\n",
            "35/35 - 0s - 4ms/step - attrition_output_accuracy: 0.9537 - department_output_accuracy: 0.8040 - loss: 0.5941 - val_attrition_output_accuracy: 0.4239 - val_department_output_accuracy: 0.6277 - val_loss: 5.6835\n",
            "Epoch 52/100\n",
            "35/35 - 0s - 4ms/step - attrition_output_accuracy: 0.9510 - department_output_accuracy: 0.8140 - loss: 0.5786 - val_attrition_output_accuracy: 0.4266 - val_department_output_accuracy: 0.6223 - val_loss: 5.6790\n",
            "Epoch 53/100\n",
            "35/35 - 0s - 5ms/step - attrition_output_accuracy: 0.9537 - department_output_accuracy: 0.8131 - loss: 0.5682 - val_attrition_output_accuracy: 0.4484 - val_department_output_accuracy: 0.6168 - val_loss: 5.4443\n",
            "Epoch 54/100\n",
            "35/35 - 0s - 4ms/step - attrition_output_accuracy: 0.9483 - department_output_accuracy: 0.8185 - loss: 0.5766 - val_attrition_output_accuracy: 0.4212 - val_department_output_accuracy: 0.6141 - val_loss: 5.8555\n",
            "Epoch 55/100\n",
            "35/35 - 0s - 4ms/step - attrition_output_accuracy: 0.9519 - department_output_accuracy: 0.8122 - loss: 0.5808 - val_attrition_output_accuracy: 0.4266 - val_department_output_accuracy: 0.6087 - val_loss: 5.6790\n",
            "Epoch 56/100\n",
            "35/35 - 0s - 3ms/step - attrition_output_accuracy: 0.9383 - department_output_accuracy: 0.8285 - loss: 0.5740 - val_attrition_output_accuracy: 0.4484 - val_department_output_accuracy: 0.6277 - val_loss: 5.5856\n",
            "Epoch 57/100\n",
            "35/35 - 0s - 4ms/step - attrition_output_accuracy: 0.9465 - department_output_accuracy: 0.8113 - loss: 0.5643 - val_attrition_output_accuracy: 0.4484 - val_department_output_accuracy: 0.6060 - val_loss: 5.6035\n",
            "Epoch 58/100\n",
            "35/35 - 0s - 4ms/step - attrition_output_accuracy: 0.9501 - department_output_accuracy: 0.8276 - loss: 0.5366 - val_attrition_output_accuracy: 0.4375 - val_department_output_accuracy: 0.6141 - val_loss: 5.8943\n",
            "Epoch 59/100\n",
            "35/35 - 0s - 5ms/step - attrition_output_accuracy: 0.9592 - department_output_accuracy: 0.8294 - loss: 0.5422 - val_attrition_output_accuracy: 0.4429 - val_department_output_accuracy: 0.6033 - val_loss: 5.8224\n",
            "Epoch 60/100\n",
            "35/35 - 0s - 4ms/step - attrition_output_accuracy: 0.9510 - department_output_accuracy: 0.8330 - loss: 0.5389 - val_attrition_output_accuracy: 0.4457 - val_department_output_accuracy: 0.6060 - val_loss: 5.8084\n",
            "Epoch 61/100\n",
            "35/35 - 0s - 4ms/step - attrition_output_accuracy: 0.9537 - department_output_accuracy: 0.8358 - loss: 0.5367 - val_attrition_output_accuracy: 0.4239 - val_department_output_accuracy: 0.6141 - val_loss: 6.0051\n",
            "Epoch 62/100\n",
            "35/35 - 0s - 4ms/step - attrition_output_accuracy: 0.9510 - department_output_accuracy: 0.8167 - loss: 0.5503 - val_attrition_output_accuracy: 0.4538 - val_department_output_accuracy: 0.6223 - val_loss: 5.9363\n",
            "Epoch 63/100\n",
            "35/35 - 0s - 3ms/step - attrition_output_accuracy: 0.9555 - department_output_accuracy: 0.8194 - loss: 0.5367 - val_attrition_output_accuracy: 0.4321 - val_department_output_accuracy: 0.6304 - val_loss: 6.1433\n",
            "Epoch 64/100\n",
            "35/35 - 0s - 3ms/step - attrition_output_accuracy: 0.9519 - department_output_accuracy: 0.8358 - loss: 0.5212 - val_attrition_output_accuracy: 0.4565 - val_department_output_accuracy: 0.6196 - val_loss: 5.8999\n",
            "Epoch 65/100\n",
            "35/35 - 0s - 3ms/step - attrition_output_accuracy: 0.9555 - department_output_accuracy: 0.8167 - loss: 0.5272 - val_attrition_output_accuracy: 0.4511 - val_department_output_accuracy: 0.6168 - val_loss: 5.9509\n",
            "Epoch 66/100\n",
            "35/35 - 0s - 4ms/step - attrition_output_accuracy: 0.9555 - department_output_accuracy: 0.8285 - loss: 0.5382 - val_attrition_output_accuracy: 0.4348 - val_department_output_accuracy: 0.6033 - val_loss: 6.1150\n",
            "Epoch 67/100\n",
            "35/35 - 0s - 4ms/step - attrition_output_accuracy: 0.9564 - department_output_accuracy: 0.8403 - loss: 0.5151 - val_attrition_output_accuracy: 0.4375 - val_department_output_accuracy: 0.6250 - val_loss: 6.2837\n",
            "Epoch 68/100\n",
            "35/35 - 0s - 5ms/step - attrition_output_accuracy: 0.9610 - department_output_accuracy: 0.8221 - loss: 0.5265 - val_attrition_output_accuracy: 0.4239 - val_department_output_accuracy: 0.6087 - val_loss: 6.3577\n",
            "Epoch 69/100\n",
            "35/35 - 0s - 5ms/step - attrition_output_accuracy: 0.9592 - department_output_accuracy: 0.8303 - loss: 0.5070 - val_attrition_output_accuracy: 0.4592 - val_department_output_accuracy: 0.6087 - val_loss: 6.1738\n",
            "Epoch 70/100\n",
            "35/35 - 0s - 4ms/step - attrition_output_accuracy: 0.9528 - department_output_accuracy: 0.8512 - loss: 0.4933 - val_attrition_output_accuracy: 0.4375 - val_department_output_accuracy: 0.6087 - val_loss: 6.2705\n",
            "Epoch 71/100\n",
            "35/35 - 0s - 4ms/step - attrition_output_accuracy: 0.9537 - department_output_accuracy: 0.8530 - loss: 0.5001 - val_attrition_output_accuracy: 0.4538 - val_department_output_accuracy: 0.6114 - val_loss: 6.3312\n",
            "Epoch 72/100\n",
            "35/35 - 0s - 4ms/step - attrition_output_accuracy: 0.9628 - department_output_accuracy: 0.8512 - loss: 0.4789 - val_attrition_output_accuracy: 0.4321 - val_department_output_accuracy: 0.6114 - val_loss: 6.4602\n",
            "Epoch 73/100\n",
            "35/35 - 0s - 5ms/step - attrition_output_accuracy: 0.9583 - department_output_accuracy: 0.8539 - loss: 0.4753 - val_attrition_output_accuracy: 0.4810 - val_department_output_accuracy: 0.6114 - val_loss: 6.2068\n",
            "Epoch 74/100\n",
            "35/35 - 0s - 5ms/step - attrition_output_accuracy: 0.9537 - department_output_accuracy: 0.8530 - loss: 0.4925 - val_attrition_output_accuracy: 0.4266 - val_department_output_accuracy: 0.6114 - val_loss: 6.7137\n",
            "Epoch 75/100\n",
            "35/35 - 0s - 4ms/step - attrition_output_accuracy: 0.9628 - department_output_accuracy: 0.8466 - loss: 0.4827 - val_attrition_output_accuracy: 0.4158 - val_department_output_accuracy: 0.6114 - val_loss: 6.7863\n",
            "Epoch 76/100\n",
            "35/35 - 0s - 4ms/step - attrition_output_accuracy: 0.9646 - department_output_accuracy: 0.8494 - loss: 0.4713 - val_attrition_output_accuracy: 0.4266 - val_department_output_accuracy: 0.6060 - val_loss: 6.7641\n",
            "Epoch 77/100\n",
            "35/35 - 0s - 4ms/step - attrition_output_accuracy: 0.9628 - department_output_accuracy: 0.8530 - loss: 0.4893 - val_attrition_output_accuracy: 0.4212 - val_department_output_accuracy: 0.6141 - val_loss: 7.1081\n",
            "Epoch 78/100\n",
            "35/35 - 0s - 5ms/step - attrition_output_accuracy: 0.9664 - department_output_accuracy: 0.8548 - loss: 0.4624 - val_attrition_output_accuracy: 0.4239 - val_department_output_accuracy: 0.6033 - val_loss: 6.9351\n",
            "Epoch 79/100\n",
            "35/35 - 0s - 4ms/step - attrition_output_accuracy: 0.9646 - department_output_accuracy: 0.8666 - loss: 0.4521 - val_attrition_output_accuracy: 0.4239 - val_department_output_accuracy: 0.6114 - val_loss: 7.2251\n",
            "Epoch 80/100\n",
            "35/35 - 0s - 4ms/step - attrition_output_accuracy: 0.9691 - department_output_accuracy: 0.8339 - loss: 0.4770 - val_attrition_output_accuracy: 0.4158 - val_department_output_accuracy: 0.5978 - val_loss: 7.3070\n",
            "Epoch 81/100\n",
            "35/35 - 0s - 4ms/step - attrition_output_accuracy: 0.9610 - department_output_accuracy: 0.8584 - loss: 0.4566 - val_attrition_output_accuracy: 0.4266 - val_department_output_accuracy: 0.6033 - val_loss: 7.1564\n",
            "Epoch 82/100\n",
            "35/35 - 0s - 4ms/step - attrition_output_accuracy: 0.9664 - department_output_accuracy: 0.8621 - loss: 0.4505 - val_attrition_output_accuracy: 0.4266 - val_department_output_accuracy: 0.5951 - val_loss: 7.1413\n",
            "Epoch 83/100\n",
            "35/35 - 0s - 5ms/step - attrition_output_accuracy: 0.9673 - department_output_accuracy: 0.8675 - loss: 0.4443 - val_attrition_output_accuracy: 0.4538 - val_department_output_accuracy: 0.6005 - val_loss: 6.9637\n",
            "Epoch 84/100\n",
            "35/35 - 0s - 5ms/step - attrition_output_accuracy: 0.9655 - department_output_accuracy: 0.8657 - loss: 0.4290 - val_attrition_output_accuracy: 0.4321 - val_department_output_accuracy: 0.5924 - val_loss: 7.2172\n",
            "Epoch 85/100\n",
            "35/35 - 0s - 4ms/step - attrition_output_accuracy: 0.9673 - department_output_accuracy: 0.8757 - loss: 0.4291 - val_attrition_output_accuracy: 0.4620 - val_department_output_accuracy: 0.5978 - val_loss: 7.0932\n",
            "Epoch 86/100\n",
            "35/35 - 0s - 4ms/step - attrition_output_accuracy: 0.9673 - department_output_accuracy: 0.8702 - loss: 0.4201 - val_attrition_output_accuracy: 0.4511 - val_department_output_accuracy: 0.6033 - val_loss: 7.1776\n",
            "Epoch 87/100\n",
            "35/35 - 0s - 5ms/step - attrition_output_accuracy: 0.9673 - department_output_accuracy: 0.8811 - loss: 0.4139 - val_attrition_output_accuracy: 0.4321 - val_department_output_accuracy: 0.5978 - val_loss: 7.4720\n",
            "Epoch 88/100\n",
            "35/35 - 0s - 4ms/step - attrition_output_accuracy: 0.9619 - department_output_accuracy: 0.8675 - loss: 0.4385 - val_attrition_output_accuracy: 0.4185 - val_department_output_accuracy: 0.5924 - val_loss: 7.5708\n",
            "Epoch 89/100\n",
            "35/35 - 0s - 4ms/step - attrition_output_accuracy: 0.9664 - department_output_accuracy: 0.8730 - loss: 0.4205 - val_attrition_output_accuracy: 0.4484 - val_department_output_accuracy: 0.5951 - val_loss: 7.4759\n",
            "Epoch 90/100\n",
            "35/35 - 0s - 5ms/step - attrition_output_accuracy: 0.9701 - department_output_accuracy: 0.8766 - loss: 0.3986 - val_attrition_output_accuracy: 0.4484 - val_department_output_accuracy: 0.5978 - val_loss: 7.5123\n",
            "Epoch 91/100\n",
            "35/35 - 0s - 4ms/step - attrition_output_accuracy: 0.9673 - department_output_accuracy: 0.8666 - loss: 0.4098 - val_attrition_output_accuracy: 0.4484 - val_department_output_accuracy: 0.5951 - val_loss: 7.4882\n",
            "Epoch 92/100\n",
            "35/35 - 0s - 5ms/step - attrition_output_accuracy: 0.9664 - department_output_accuracy: 0.8512 - loss: 0.4394 - val_attrition_output_accuracy: 0.4538 - val_department_output_accuracy: 0.5978 - val_loss: 7.4920\n",
            "Epoch 93/100\n",
            "35/35 - 0s - 4ms/step - attrition_output_accuracy: 0.9628 - department_output_accuracy: 0.8711 - loss: 0.4205 - val_attrition_output_accuracy: 0.4429 - val_department_output_accuracy: 0.6005 - val_loss: 7.7848\n",
            "Epoch 94/100\n",
            "35/35 - 0s - 5ms/step - attrition_output_accuracy: 0.9701 - department_output_accuracy: 0.8603 - loss: 0.4364 - val_attrition_output_accuracy: 0.4321 - val_department_output_accuracy: 0.5951 - val_loss: 7.7873\n",
            "Epoch 95/100\n",
            "35/35 - 0s - 4ms/step - attrition_output_accuracy: 0.9682 - department_output_accuracy: 0.8820 - loss: 0.4020 - val_attrition_output_accuracy: 0.4321 - val_department_output_accuracy: 0.5951 - val_loss: 7.8492\n",
            "Epoch 96/100\n",
            "35/35 - 0s - 4ms/step - attrition_output_accuracy: 0.9746 - department_output_accuracy: 0.8820 - loss: 0.4008 - val_attrition_output_accuracy: 0.4266 - val_department_output_accuracy: 0.6005 - val_loss: 7.9652\n",
            "Epoch 97/100\n",
            "35/35 - 0s - 4ms/step - attrition_output_accuracy: 0.9682 - department_output_accuracy: 0.8721 - loss: 0.4348 - val_attrition_output_accuracy: 0.4402 - val_department_output_accuracy: 0.5924 - val_loss: 7.5874\n",
            "Epoch 98/100\n",
            "35/35 - 0s - 5ms/step - attrition_output_accuracy: 0.9782 - department_output_accuracy: 0.8938 - loss: 0.3758 - val_attrition_output_accuracy: 0.4457 - val_department_output_accuracy: 0.5951 - val_loss: 7.6489\n",
            "Epoch 99/100\n",
            "35/35 - 0s - 5ms/step - attrition_output_accuracy: 0.9710 - department_output_accuracy: 0.8820 - loss: 0.3819 - val_attrition_output_accuracy: 0.4185 - val_department_output_accuracy: 0.5870 - val_loss: 8.0010\n",
            "Epoch 100/100\n",
            "35/35 - 0s - 5ms/step - attrition_output_accuracy: 0.9800 - department_output_accuracy: 0.9002 - loss: 0.3621 - val_attrition_output_accuracy: 0.4375 - val_department_output_accuracy: 0.5815 - val_loss: 8.0268\n"
          ]
        },
        {
          "data": {
            "text/plain": [
              "<keras.src.callbacks.history.History at 0x18281190260>"
            ]
          },
          "execution_count": 18,
          "metadata": {},
          "output_type": "execute_result"
        }
      ],
      "source": [
        "# Train the model\n",
        "model.fit(\n",
        "    X_train,\n",
        "    {'department_output': department_train_encoded, 'attrition_output': attrition_train_encoded},\n",
        "    epochs = 100,\n",
        "    shuffle = True,\n",
        "    validation_data = (X_test_scaled, {'department_output': department_test_encoded, 'attrition_output': attrition_test_encoded}),\n",
        "    verbose=2\n",
        ")\n"
      ]
    },
    {
      "cell_type": "code",
      "execution_count": 26,
      "metadata": {
        "colab": {
          "base_uri": "https://localhost:8080/"
        },
        "id": "VsMoaQlgGc3U",
        "outputId": "1bd4e601-e964-4abc-ad83-aeecf6b696be"
      },
      "outputs": [
        {
          "name": "stdout",
          "output_type": "stream",
          "text": [
            "12/12 - 0s - 3ms/step - attrition_output_accuracy: 0.4375 - department_output_accuracy: 0.5815 - loss: 8.0268\n"
          ]
        },
        {
          "data": {
            "text/html": [
              "<div>\n",
              "<style scoped>\n",
              "    .dataframe tbody tr th:only-of-type {\n",
              "        vertical-align: middle;\n",
              "    }\n",
              "\n",
              "    .dataframe tbody tr th {\n",
              "        vertical-align: top;\n",
              "    }\n",
              "\n",
              "    .dataframe thead th {\n",
              "        text-align: right;\n",
              "    }\n",
              "</style>\n",
              "<table border=\"1\" class=\"dataframe\">\n",
              "  <thead>\n",
              "    <tr style=\"text-align: right;\">\n",
              "      <th></th>\n",
              "      <th>8.026776</th>\n",
              "      <th>0.437500</th>\n",
              "      <th>0.581522</th>\n",
              "    </tr>\n",
              "  </thead>\n",
              "  <tbody>\n",
              "    <tr>\n",
              "      <th>0</th>\n",
              "      <td>8.026776</td>\n",
              "      <td>0.4375</td>\n",
              "      <td>0.581522</td>\n",
              "    </tr>\n",
              "  </tbody>\n",
              "</table>\n",
              "</div>"
            ],
            "text/plain": [
              "   8.026776  0.437500  0.581522\n",
              "0  8.026776    0.4375  0.581522"
            ]
          },
          "execution_count": 26,
          "metadata": {},
          "output_type": "execute_result"
        }
      ],
      "source": [
        "# Evaluate the model on the testing data\n",
        "metrics = model.evaluate(X_test_scaled, \n",
        "                         {'department_output': department_test_encoded, \n",
        "                          'attrition_output': attrition_test_encoded}, \n",
        "                         verbose=2)\n",
        "# Print the results\n",
        "summary_df = pd.DataFrame(metrics).T\n",
        "summary_df.columns = metrics\n",
        "summary_df\n"
      ]
    },
    {
      "cell_type": "code",
      "execution_count": 28,
      "metadata": {
        "colab": {
          "base_uri": "https://localhost:8080/"
        },
        "id": "ZlCtlHi0Vt54",
        "outputId": "bc21ef3e-80c2-4b38-9c29-79515bc23dec"
      },
      "outputs": [
        {
          "name": "stdout",
          "output_type": "stream",
          "text": [
            "Department predictions accuracy: 0.4375\n",
            "Attrition predictions accuracy: 0.58152174949646\n"
          ]
        }
      ],
      "source": [
        "# Print the accuracy for both department and attrition\n",
        "print(f\"Department predictions accuracy: {metrics[1]}\")\n",
        "print(f\"Attrition predictions accuracy: {metrics[2]}\")"
      ]
    },
    {
      "cell_type": "markdown",
      "metadata": {
        "id": "eGSyfsZfWOQM"
      },
      "source": [
        "# Summary\n",
        "\n",
        "In the provided space below, briefly answer the following questions.\n",
        "\n",
        "1. Is accuracy the best metric to use on this data? Why or why not?\n",
        "\n",
        "2. What activation functions did you choose for your output layers, and why?\n",
        "\n",
        "3. Can you name a few ways that this model might be improved?"
      ]
    },
    {
      "cell_type": "markdown",
      "metadata": {
        "id": "pi9SLpFnWvbF"
      },
      "source": [
        "YOUR ANSWERS HERE\n",
        "\n",
        "1. Because the data is imbalanced, accuracy is not the best metric here. \n",
        "2. Department = multiclass. Used softmax. Attrition = binary. Used sigmoid.\n",
        "3. Could try adding more layers? Increasing the amount of data?"
      ]
    },
    {
      "cell_type": "markdown",
      "metadata": {},
      "source": []
    }
  ],
  "metadata": {
    "colab": {
      "provenance": []
    },
    "kernelspec": {
      "display_name": "Python 3",
      "language": "python",
      "name": "python3"
    },
    "language_info": {
      "codemirror_mode": {
        "name": "ipython",
        "version": 3
      },
      "file_extension": ".py",
      "mimetype": "text/x-python",
      "name": "python",
      "nbconvert_exporter": "python",
      "pygments_lexer": "ipython3",
      "version": "3.12.0"
    },
    "vscode": {
      "interpreter": {
        "hash": "31f2aee4e71d21fbe5cf8b01ff0e069b9275f58929596ceb00d14d90e3e16cd6"
      }
    }
  },
  "nbformat": 4,
  "nbformat_minor": 0
}
